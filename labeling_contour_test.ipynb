{
 "cells": [
  {
   "cell_type": "code",
   "execution_count": 17,
   "metadata": {},
   "outputs": [],
   "source": [
    "import cv2"
   ]
  },
  {
   "cell_type": "code",
   "execution_count": 18,
   "metadata": {},
   "outputs": [
    {
     "name": "stdout",
     "output_type": "stream",
     "text": [
      "Help on built-in function connectedComponentsWithStats:\n",
      "\n",
      "connectedComponentsWithStats(...)\n",
      "    connectedComponentsWithStats(image[, labels[, stats[, centroids[, connectivity[, ltype]]]]]) -> retval, labels, stats, centroids\n",
      "    .   @overload\n",
      "    .   @param image the 8-bit single-channel image to be labeled\n",
      "    .   @param labels destination labeled image\n",
      "    .   @param stats statistics output for each label, including the background label.\n",
      "    .   Statistics are accessed via stats(label, COLUMN) where COLUMN is one of\n",
      "    .   #ConnectedComponentsTypes, selecting the statistic. The data type is CV_32S.\n",
      "    .   @param centroids centroid output for each label, including the background label. Centroids are\n",
      "    .   accessed via centroids(label, 0) for x and centroids(label, 1) for y. The data type CV_64F.\n",
      "    .   @param connectivity 8 or 4 for 8-way or 4-way connectivity respectively\n",
      "    .   @param ltype output image label type. Currently CV_32S and CV_16U are supported.\n",
      "\n"
     ]
    }
   ],
   "source": [
    "help(cv2.connectedComponentsWithStats)"
   ]
  },
  {
   "cell_type": "code",
   "execution_count": 9,
   "metadata": {},
   "outputs": [],
   "source": [
    "import numpy as np\n",
    "import cv2\n",
    "import random\n",
    "\n",
    "def contours_basic():\n",
    "    src = cv2.imread('./img/cloud2.jpg', cv2.IMREAD_GRAYSCALE)\n",
    "    _, src = cv2.threshold(src, 0, 255, cv2.THRESH_BINARY | cv2.THRESH_OTSU)\n",
    "\n",
    "    if src is None:\n",
    "        print('Image load failed!')\n",
    "        return\n",
    "\n",
    "    contours, _ = cv2.findContours(src, cv2.RETR_LIST, cv2.CHAIN_APPROX_NONE)\n",
    "\n",
    "    dst = cv2.cvtColor(src, cv2.COLOR_GRAY2BGR)\n",
    "\n",
    "    for i in range(len(contours)):\n",
    "        c = (random.randint(0, 255), random.randint(0, 255), random.randint(0, 255))\n",
    "        cv2.drawContours(dst, contours, i, c, 2)\n",
    "\n",
    "    cv2.imshow('src', src)\n",
    "    cv2.imshow('dst', dst)\n",
    "\n",
    "    cv2.waitKey()\n",
    "    cv2.destroyAllWindows()\n",
    "\n",
    "\n",
    "def contours_hier():\n",
    "    src1=cv2.imread('./img/cloud2.jpg')\n",
    "    src = cv2.imread('./img/cloud2.jpg', cv2.IMREAD_GRAYSCALE)\n",
    "    _, src = cv2.threshold(src, 0, 255, cv2.THRESH_BINARY | cv2.THRESH_OTSU)\n",
    "\n",
    "    if src is None:\n",
    "        print('Image load failed!')\n",
    "        return\n",
    "\n",
    "    contours, hierarchy = cv2.findContours(src, cv2.RETR_CCOMP, cv2.CHAIN_APPROX_SIMPLE)\n",
    "\n",
    "    dst = cv2.cvtColor(src, cv2.COLOR_GRAY2BGR)\n",
    "\n",
    "    idx = 0\n",
    "    while idx >= 0:\n",
    "        c = (random.randint(0, 255), random.randint(0, 255), random.randint(0, 255))\n",
    "        cv2.drawContours(dst, contours, idx, c, -1, cv2.LINE_8, hierarchy)\n",
    "        idx = hierarchy[0, idx, 0]\n",
    "\n",
    "    cv2.imshow('src', src1)\n",
    "    # cv2.imshow('src', src)\n",
    "    cv2.imshow('dst', dst)\n",
    "\n",
    "    cv2.waitKey()\n",
    "    cv2.destroyAllWindows()\n",
    "\n",
    "\n",
    "import threading\n",
    "\n",
    "if __name__ == \"__main__\":\n",
    "   contours_basic()\n",
    "   contours_hier()\n",
    "   \n",
    "# main error solution\n",
    "# 이진화를 해야 컨투어 함수가 먹힌다"
   ]
  },
  {
   "cell_type": "code",
   "execution_count": 22,
   "metadata": {},
   "outputs": [
    {
     "data": {
      "text/plain": [
       "array([ 41,  42,  43,  44,  45,  46,  47,  48,  49,  50,  51,  52,  53,\n",
       "        54,  55,  56,  57,  58,  59,  60,  61,  62,  63,  64,  65,  66,\n",
       "        67,  68,  69,  70,  71,  72,  73,  74,  75,  76,  77,  78,  79,\n",
       "        80,  81,  82,  83,  84,  85,  86,  87,  88,  89,  90,  91,  92,\n",
       "        93,  94,  95,  96,  97,  98,  99, 100, 101, 102, 103, 104, 105,\n",
       "       106, 107, 108, 109, 110, 111, 112, 113, 114, 115, 116, 117, 118,\n",
       "       119, 120, 121, 122, 123, 124, 125, 126, 127, 128, 129, 130, 131,\n",
       "       132, 133, 134, 135, 136, 137, 138, 139, 140, 141, 142, 143, 144,\n",
       "       145, 146, 147, 148, 149, 150, 151, 152, 153, 154, 155, 156, 157,\n",
       "       158, 159, 160, 161, 162, 163, 164, 165, 166, 167, 168, 169, 170,\n",
       "       171, 172, 173, 174, 175, 176, 177, 178, 179, 180, 181, 182, 183,\n",
       "       184, 185, 186, 187, 188, 189, 190, 191, 192, 193, 194, 195, 196,\n",
       "       197, 198, 199, 200, 201, 202, 203, 204, 205, 206, 207, 208, 209,\n",
       "       210, 211, 212, 213, 214, 215, 216, 217, 218, 219, 220, 221, 222,\n",
       "       223, 224, 225, 226, 227, 228, 229, 230, 231, 232, 233, 234, 235,\n",
       "       236, 237, 238, 239, 240, 241, 242, 243, 244, 245, 246, 247, 248,\n",
       "       249, 250, 251, 252, 253, 254, 255], dtype=uint8)"
      ]
     },
     "execution_count": 22,
     "metadata": {},
     "output_type": "execute_result"
    }
   ],
   "source": [
    "src = cv2.imread('./img/cloud2.jpg', cv2.IMREAD_GRAYSCALE)\n",
    "np.unique(src)\n",
    "# 유일한 픽셀 값이 0과 244여야만 이진화가 된 것"
   ]
  },
  {
   "cell_type": "code",
   "execution_count": 5,
   "metadata": {},
   "outputs": [],
   "source": [
    "src = cv2.imread('./img/cloud2.jpg', cv2.IMREAD_GRAYSCALE)\n",
    "# 이진화 및 Otsu의 방법 적용\n",
    "_, src_bin = cv2.threshold(src, 0, 255, cv2.THRESH_BINARY | cv2.THRESH_OTSU)"
   ]
  },
  {
   "cell_type": "code",
   "execution_count": 6,
   "metadata": {},
   "outputs": [],
   "source": [
    "# 이진화된 이미지 표시\n",
    "cv2.imshow('Binary Image', src_bin)\n",
    "cv2.waitKey(0)\n",
    "cv2.destroyAllWindows()"
   ]
  },
  {
   "cell_type": "code",
   "execution_count": 7,
   "metadata": {},
   "outputs": [
    {
     "data": {
      "text/plain": [
       "array([  0, 255], dtype=uint8)"
      ]
     },
     "execution_count": 7,
     "metadata": {},
     "output_type": "execute_result"
    }
   ],
   "source": [
    "np.unique(src_bin)"
   ]
  }
 ],
 "metadata": {
  "kernelspec": {
   "display_name": "prmldl",
   "language": "python",
   "name": "python3"
  },
  "language_info": {
   "codemirror_mode": {
    "name": "ipython",
    "version": 3
   },
   "file_extension": ".py",
   "mimetype": "text/x-python",
   "name": "python",
   "nbconvert_exporter": "python",
   "pygments_lexer": "ipython3",
   "version": "3.11.9"
  }
 },
 "nbformat": 4,
 "nbformat_minor": 2
}
