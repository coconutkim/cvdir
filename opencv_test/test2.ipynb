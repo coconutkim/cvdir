{
 "cells": [
  {
   "cell_type": "code",
   "execution_count": 4,
   "metadata": {},
   "outputs": [],
   "source": [
    "# inrange\n",
    "\n",
    "import numpy as np\n",
    "import cv2\n",
    "\n",
    "\n",
    "def on_hue_changed(_=None):\n",
    "    lower_hue = cv2.getTrackbarPos('Lower Hue', 'mask')\n",
    "    upper_hue = cv2.getTrackbarPos('Upper Hue', 'mask')\n",
    "    # 트랙 바는 일정 범위 내의 값을 변경할 때 사용하며,\n",
    "    # 적절한 임곗값을 찾거나 변경하기 위해 사용합니다.\n",
    "\n",
    "    lowerb = (lower_hue, 100, 0)\n",
    "    upperb = (upper_hue, 255, 255)\n",
    "    mask = cv2.inRange(src_hsv, lowerb, upperb)\n",
    "\n",
    "    cv2.imshow('mask', mask)\n",
    "\n",
    "\n",
    "def main():\n",
    "    global src_hsv\n",
    "\n",
    "    src = cv2.imread('../img/power_rangers2.jpg', cv2.IMREAD_COLOR)\n",
    "\n",
    "    if src is None:\n",
    "        print('Image load failed!')\n",
    "        return\n",
    "\n",
    "    src_hsv = cv2.cvtColor(src, cv2.COLOR_BGR2HSV)\n",
    "\n",
    "    cv2.imshow('src', src)\n",
    "\n",
    "    cv2.namedWindow('mask')\n",
    "    cv2.createTrackbar('Lower Hue', 'mask', 0,255, on_hue_changed)\n",
    "    cv2.createTrackbar('Upper Hue', 'mask',0,255, on_hue_changed)\n",
    "    on_hue_changed(0)\n",
    "\n",
    "    cv2.waitKey()\n",
    "    cv2.destroyAllWindows()\n",
    "\n",
    "\n",
    "if __name__ == '__main__':\n",
    "    main()\n",
    "\n",
    "# 트랙바를 통해 조절하면서 특정 색상만을 확인"
   ]
  }
 ],
 "metadata": {
  "kernelspec": {
   "display_name": "prmldl",
   "language": "python",
   "name": "python3"
  },
  "language_info": {
   "codemirror_mode": {
    "name": "ipython",
    "version": 3
   },
   "file_extension": ".py",
   "mimetype": "text/x-python",
   "name": "python",
   "nbconvert_exporter": "python",
   "pygments_lexer": "ipython3",
   "version": "3.11.9"
  }
 },
 "nbformat": 4,
 "nbformat_minor": 2
}
