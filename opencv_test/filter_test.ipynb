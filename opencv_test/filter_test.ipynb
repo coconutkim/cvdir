{
 "cells": [
  {
   "cell_type": "code",
   "execution_count": 7,
   "metadata": {},
   "outputs": [],
   "source": [
    "import cv2\n",
    "\n",
    "ksize = 50        # 블러 처리에 사용할 커널 크기\n",
    "win_title = 'mosaic'    # 창 제목\n",
    "img = cv2.imread(r'C:\\ex\\cvdir\\insightbook.opencv_project_python-master\\img\\stadium.jpg')    # 이미지 읽기\n",
    "\n",
    "while True:\n",
    "    x,y,w,h = cv2.selectROI(win_title, img, False) # 관심영역 선택\n",
    "    if w > 0 and h > 0:         # 폭과 높이가 음수이면 드래그 방향이 옳음 \n",
    "        roi = img[y:y+h, x:x+w]   # 관심영역 지정\n",
    "        roi = cv2.blur(roi, (ksize, ksize)) # 블러(모자이크) 처리\n",
    "        img[y:y+h, x:x+w] = roi   # 원본 이미지에 적용\n",
    "        cv2.imshow(win_title, img)\n",
    "    else:\n",
    "        break\n",
    "cv2.destroyAllWindows()"
   ]
  },
  {
   "cell_type": "code",
   "execution_count": 23,
   "metadata": {},
   "outputs": [
    {
     "name": "stdout",
     "output_type": "stream",
     "text": [
      "(300, 300, 3)\n"
     ]
    },
    {
     "ename": "KeyboardInterrupt",
     "evalue": "",
     "output_type": "error",
     "traceback": [
      "\u001b[1;31m---------------------------------------------------------------------------\u001b[0m",
      "\u001b[1;31mKeyboardInterrupt\u001b[0m                         Traceback (most recent call last)",
      "Cell \u001b[1;32mIn[23], line 15\u001b[0m\n\u001b[0;32m     13\u001b[0m merged \u001b[38;5;241m=\u001b[39m np\u001b[38;5;241m.\u001b[39mhstack((img, blur1, blur2))\n\u001b[0;32m     14\u001b[0m cv2\u001b[38;5;241m.\u001b[39mimshow(\u001b[38;5;124m'\u001b[39m\u001b[38;5;124mbilateral\u001b[39m\u001b[38;5;124m'\u001b[39m, merged)\n\u001b[1;32m---> 15\u001b[0m cv2\u001b[38;5;241m.\u001b[39mwaitKey(\u001b[38;5;241m0\u001b[39m)\n\u001b[0;32m     16\u001b[0m cv2\u001b[38;5;241m.\u001b[39mdestroyAllWindows()\n",
      "\u001b[1;31mKeyboardInterrupt\u001b[0m: "
     ]
    },
    {
     "ename": "",
     "evalue": "",
     "output_type": "error",
     "traceback": [
      "\u001b[1;31mThe Kernel crashed while executing code in the current cell or a previous cell. \n",
      "\u001b[1;31mPlease review the code in the cell(s) to identify a possible cause of the failure. \n",
      "\u001b[1;31mClick <a href='https://aka.ms/vscodeJupyterKernelCrash'>here</a> for more info. \n",
      "\u001b[1;31mView Jupyter <a href='command:jupyter.viewOutput'>log</a> for further details."
     ]
    }
   ],
   "source": [
    "import cv2\n",
    "import numpy as np\n",
    "\n",
    "img = cv2.imread(r'C:\\ex\\cvdir\\insightbook.opencv_project_python-master\\img\\low_cinema.jpg')\n",
    "print(img.shape)\n",
    "# 가우시안 필터 적용 ---①\n",
    "blur1 = cv2.GaussianBlur(img, (5,5), 0)\n",
    "\n",
    "# 바이레터럴 필터 적용 ---②\n",
    "blur2 = cv2.bilateralFilter(img, -1, 75, 75)\n",
    "\n",
    "# cv2.bilateralFilter(src, d, sigmaColor, sigmaSpace,\n",
    "#                     dst=None, borderType=None) -> dst\n",
    "# • src: 입력 영상. 8비트 또는 실수형, 1채널 또는 3채널.\n",
    "# • d: 필터링에 사용될 이웃 픽셀의 거리(지름), 음수(-1)를 입력하면\n",
    "# sigmaSpace 값에 의해 자동 결정(권장)\n",
    "# • sigmaColor: 색 공간에서 필터의 표준 편차\n",
    "# • sigmaSpace: 좌표 공간에서 필터의 표준 편차\n",
    "# • dst: 출력 영상. src와 같은 크기, 같은 타입.\n",
    "# • borderType: 가장자리 픽셀 처리 방식\n",
    "\n",
    "# 결과 출력\n",
    "merged = np.hstack((img, blur1, blur2))\n",
    "cv2.imshow('bilateral', merged)\n",
    "cv2.waitKey(0)\n",
    "cv2.destroyAllWindows()"
   ]
  },
  {
   "cell_type": "code",
   "execution_count": 2,
   "metadata": {},
   "outputs": [
    {
     "name": "stdout",
     "output_type": "stream",
     "text": [
      "Help on built-in function GaussianBlur:\n",
      "\n",
      "GaussianBlur(...)\n",
      "    GaussianBlur(src, ksize, sigmaX[, dst[, sigmaY[, borderType]]]) -> dst\n",
      "    .   @brief Blurs an image using a Gaussian filter.\n",
      "    .   \n",
      "    .   The function convolves the source image with the specified Gaussian kernel. In-place filtering is\n",
      "    .   supported.\n",
      "    .   \n",
      "    .   @param src input image; the image can have any number of channels, which are processed\n",
      "    .   independently, but the depth should be CV_8U, CV_16U, CV_16S, CV_32F or CV_64F.\n",
      "    .   @param dst output image of the same size and type as src.\n",
      "    .   @param ksize Gaussian kernel size. ksize.width and ksize.height can differ but they both must be\n",
      "    .   positive and odd. Or, they can be zero's and then they are computed from sigma.\n",
      "    .   @param sigmaX Gaussian kernel standard deviation in X direction.\n",
      "    .   @param sigmaY Gaussian kernel standard deviation in Y direction; if sigmaY is zero, it is set to be\n",
      "    .   equal to sigmaX, if both sigmas are zeros, they are computed from ksize.width and ksize.height,\n",
      "    .   respectively (see #getGaussianKernel for details); to fully control the result regardless of\n",
      "    .   possible future modifications of all this semantics, it is recommended to specify all of ksize,\n",
      "    .   sigmaX, and sigmaY.\n",
      "    .   @param borderType pixel extrapolation method, see #BorderTypes. #BORDER_WRAP is not supported.\n",
      "    .   \n",
      "    .   @sa  sepFilter2D, filter2D, blur, boxFilter, bilateralFilter, medianBlur\n",
      "\n"
     ]
    }
   ],
   "source": [
    "help(cv2.GaussianBlur)"
   ]
  },
  {
   "cell_type": "code",
   "execution_count": 20,
   "metadata": {},
   "outputs": [
    {
     "name": "stdout",
     "output_type": "stream",
     "text": [
      "k1: [[0.0625 0.125  0.0625]\n",
      " [0.125  0.25   0.125 ]\n",
      " [0.0625 0.125  0.0625]]\n",
      "k2: [[0.00012299 0.00039578 0.00095091 0.00170579 0.00236964 0.00236964\n",
      "  0.00170579 0.00095091 0.00039578 0.00012299]\n",
      " [0.00039578 0.0012736  0.00305995 0.00548911 0.00762531 0.00762531\n",
      "  0.00548911 0.00305995 0.0012736  0.00039578]\n",
      " [0.00095091 0.00305995 0.00735184 0.01318815 0.01832059 0.01832059\n",
      "  0.01318815 0.00735184 0.00305995 0.00095091]\n",
      " [0.00170579 0.00548911 0.01318815 0.02365765 0.03286452 0.03286452\n",
      "  0.02365765 0.01318815 0.00548911 0.00170579]\n",
      " [0.00236964 0.00762531 0.01832059 0.03286452 0.04565443 0.04565443\n",
      "  0.03286452 0.01832059 0.00762531 0.00236964]\n",
      " [0.00236964 0.00762531 0.01832059 0.03286452 0.04565443 0.04565443\n",
      "  0.03286452 0.01832059 0.00762531 0.00236964]\n",
      " [0.00170579 0.00548911 0.01318815 0.02365765 0.03286452 0.03286452\n",
      "  0.02365765 0.01318815 0.00548911 0.00170579]\n",
      " [0.00095091 0.00305995 0.00735184 0.01318815 0.01832059 0.01832059\n",
      "  0.01318815 0.00735184 0.00305995 0.00095091]\n",
      " [0.00039578 0.0012736  0.00305995 0.00548911 0.00762531 0.00762531\n",
      "  0.00548911 0.00305995 0.0012736  0.00039578]\n",
      " [0.00012299 0.00039578 0.00095091 0.00170579 0.00236964 0.00236964\n",
      "  0.00170579 0.00095091 0.00039578 0.00012299]]\n"
     ]
    }
   ],
   "source": [
    "import cv2\n",
    "import numpy as np\n",
    "\n",
    "img = cv2.imread(r'C:\\ex\\cvdir\\insightbook.opencv_project_python-master\\img\\low_cinema.jpg')\n",
    "\n",
    "# 가우시안 커널을 직접 생성해서 블러링  ---①\n",
    "k1 = np.array([[1, 2, 1],\n",
    "                   [2, 4, 2],\n",
    "                   [1, 2, 1]]) *(1/16)\n",
    "blur1 = cv2.filter2D(img, -1, k1)\n",
    "\n",
    "# 가우시안 커널을 API로 얻어서 블러링 ---②\n",
    "k2 = cv2.getGaussianKernel(10, 0)\n",
    "blur2 = cv2.filter2D(img, -1, k2*k2.T)\n",
    "\n",
    "# 가우시안 블러 API로 블러링 ---③\n",
    "blur3 = cv2.GaussianBlur(img, (5,5), 0)\n",
    "\n",
    "# 결과 출력\n",
    "print('k1:', k1)\n",
    "print('k2:', k2*k2.T)\n",
    "merged = np.hstack((img, blur1, blur2, blur3))\n",
    "cv2.imshow('gaussian blur', merged)\n",
    "cv2.waitKey(0)\n",
    "cv2.destroyAllWindows()"
   ]
  }
 ],
 "metadata": {
  "kernelspec": {
   "display_name": "prmldl",
   "language": "python",
   "name": "python3"
  },
  "language_info": {
   "codemirror_mode": {
    "name": "ipython",
    "version": 3
   },
   "file_extension": ".py",
   "mimetype": "text/x-python",
   "name": "python",
   "nbconvert_exporter": "python",
   "pygments_lexer": "ipython3",
   "version": "3.11.9"
  }
 },
 "nbformat": 4,
 "nbformat_minor": 2
}
